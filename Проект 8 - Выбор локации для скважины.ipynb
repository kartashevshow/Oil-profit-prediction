{
 "cells": [
  {
   "cell_type": "markdown",
   "metadata": {},
   "source": [
    "# Выбор локации для скважины"
   ]
  },
  {
   "cell_type": "markdown",
   "metadata": {},
   "source": [
    "Допустим, вы работаете в добывающей компании «ГлавРосГосНефть». Нужно решить, где бурить новую скважину.\n",
    "\n",
    "Вам предоставлены пробы нефти в трёх регионах: в каждом 10 000 месторождений, где измерили качество нефти и объём её запасов. Постройте модель машинного обучения, которая поможет определить регион, где добыча принесёт наибольшую прибыль. Проанализируйте возможную прибыль и риски техникой *Bootstrap.*\n",
    "\n",
    "Шаги для выбора локации:\n",
    "\n",
    "- В избранном регионе ищут месторождения, для каждого определяют значения признаков;\n",
    "- Строят модель и оценивают объём запасов;\n",
    "- Выбирают месторождения с самым высокими оценками значений. Количество месторождений зависит от бюджета компании и стоимости разработки одной скважины;\n",
    "- Прибыль равна суммарной прибыли отобранных месторождений."
   ]
  },
  {
   "cell_type": "markdown",
   "metadata": {},
   "source": [
    "## Загрузка и подготовка данных"
   ]
  },
  {
   "cell_type": "code",
   "execution_count": 1,
   "metadata": {},
   "outputs": [],
   "source": [
    "import pandas as pd\n",
    "import numpy as np\n",
    "import matplotlib.pyplot as plt\n",
    "import seaborn as sns\n",
    "import warnings\n",
    "warnings.filterwarnings(\"ignore\")\n",
    "from sklearn.model_selection import train_test_split\n",
    "from sklearn.linear_model import LinearRegression\n",
    "from sklearn.preprocessing import (StandardScaler,\n",
    "                                   MinMaxScaler)\n",
    "from sklearn.metrics import mean_squared_error\n",
    "\n",
    "RANDOM = 42\n"
   ]
  },
  {
   "cell_type": "code",
   "execution_count": 2,
   "metadata": {},
   "outputs": [],
   "source": [
    "try:\n",
    "    df_0 = pd.read_csv('geo_data_0.csv')\n",
    "    df_1 = pd.read_csv('geo_data_1.csv') \n",
    "    df_2 = pd.read_csv('geo_data_2.csv') \n",
    "except:\n",
    "    df_0 = pd.read_csv('/datasets/geo_data_0.csv')\n",
    "    df_1 = pd.read_csv('/datasets/geo_data_1.csv') \n",
    "    #df_2 = pd.read_csv('/datasets/geo_data_1.csv')\n",
    "    df_2 = pd.read_csv('/datasets/geo_data_2.csv') # код ревьюера"
   ]
  },
  {
   "cell_type": "code",
   "execution_count": 3,
   "metadata": {},
   "outputs": [
    {
     "name": "stdout",
     "output_type": "stream",
     "text": [
      "Первый набор данных:\n"
     ]
    },
    {
     "data": {
      "text/html": [
       "<div>\n",
       "<style scoped>\n",
       "    .dataframe tbody tr th:only-of-type {\n",
       "        vertical-align: middle;\n",
       "    }\n",
       "\n",
       "    .dataframe tbody tr th {\n",
       "        vertical-align: top;\n",
       "    }\n",
       "\n",
       "    .dataframe thead th {\n",
       "        text-align: right;\n",
       "    }\n",
       "</style>\n",
       "<table border=\"1\" class=\"dataframe\">\n",
       "  <thead>\n",
       "    <tr style=\"text-align: right;\">\n",
       "      <th></th>\n",
       "      <th>id</th>\n",
       "      <th>f0</th>\n",
       "      <th>f1</th>\n",
       "      <th>f2</th>\n",
       "      <th>product</th>\n",
       "    </tr>\n",
       "  </thead>\n",
       "  <tbody>\n",
       "    <tr>\n",
       "      <th>0</th>\n",
       "      <td>txEyH</td>\n",
       "      <td>0.705745</td>\n",
       "      <td>-0.497823</td>\n",
       "      <td>1.221170</td>\n",
       "      <td>105.280062</td>\n",
       "    </tr>\n",
       "    <tr>\n",
       "      <th>1</th>\n",
       "      <td>2acmU</td>\n",
       "      <td>1.334711</td>\n",
       "      <td>-0.340164</td>\n",
       "      <td>4.365080</td>\n",
       "      <td>73.037750</td>\n",
       "    </tr>\n",
       "    <tr>\n",
       "      <th>2</th>\n",
       "      <td>409Wp</td>\n",
       "      <td>1.022732</td>\n",
       "      <td>0.151990</td>\n",
       "      <td>1.419926</td>\n",
       "      <td>85.265647</td>\n",
       "    </tr>\n",
       "    <tr>\n",
       "      <th>3</th>\n",
       "      <td>iJLyR</td>\n",
       "      <td>-0.032172</td>\n",
       "      <td>0.139033</td>\n",
       "      <td>2.978566</td>\n",
       "      <td>168.620776</td>\n",
       "    </tr>\n",
       "    <tr>\n",
       "      <th>4</th>\n",
       "      <td>Xdl7t</td>\n",
       "      <td>1.988431</td>\n",
       "      <td>0.155413</td>\n",
       "      <td>4.751769</td>\n",
       "      <td>154.036647</td>\n",
       "    </tr>\n",
       "  </tbody>\n",
       "</table>\n",
       "</div>"
      ],
      "text/plain": [
       "      id        f0        f1        f2     product\n",
       "0  txEyH  0.705745 -0.497823  1.221170  105.280062\n",
       "1  2acmU  1.334711 -0.340164  4.365080   73.037750\n",
       "2  409Wp  1.022732  0.151990  1.419926   85.265647\n",
       "3  iJLyR -0.032172  0.139033  2.978566  168.620776\n",
       "4  Xdl7t  1.988431  0.155413  4.751769  154.036647"
      ]
     },
     "metadata": {},
     "output_type": "display_data"
    },
    {
     "name": "stdout",
     "output_type": "stream",
     "text": [
      "Второй набор данных:\n"
     ]
    },
    {
     "data": {
      "text/html": [
       "<div>\n",
       "<style scoped>\n",
       "    .dataframe tbody tr th:only-of-type {\n",
       "        vertical-align: middle;\n",
       "    }\n",
       "\n",
       "    .dataframe tbody tr th {\n",
       "        vertical-align: top;\n",
       "    }\n",
       "\n",
       "    .dataframe thead th {\n",
       "        text-align: right;\n",
       "    }\n",
       "</style>\n",
       "<table border=\"1\" class=\"dataframe\">\n",
       "  <thead>\n",
       "    <tr style=\"text-align: right;\">\n",
       "      <th></th>\n",
       "      <th>id</th>\n",
       "      <th>f0</th>\n",
       "      <th>f1</th>\n",
       "      <th>f2</th>\n",
       "      <th>product</th>\n",
       "    </tr>\n",
       "  </thead>\n",
       "  <tbody>\n",
       "    <tr>\n",
       "      <th>0</th>\n",
       "      <td>kBEdx</td>\n",
       "      <td>-15.001348</td>\n",
       "      <td>-8.276000</td>\n",
       "      <td>-0.005876</td>\n",
       "      <td>3.179103</td>\n",
       "    </tr>\n",
       "    <tr>\n",
       "      <th>1</th>\n",
       "      <td>62mP7</td>\n",
       "      <td>14.272088</td>\n",
       "      <td>-3.475083</td>\n",
       "      <td>0.999183</td>\n",
       "      <td>26.953261</td>\n",
       "    </tr>\n",
       "    <tr>\n",
       "      <th>2</th>\n",
       "      <td>vyE1P</td>\n",
       "      <td>6.263187</td>\n",
       "      <td>-5.948386</td>\n",
       "      <td>5.001160</td>\n",
       "      <td>134.766305</td>\n",
       "    </tr>\n",
       "    <tr>\n",
       "      <th>3</th>\n",
       "      <td>KcrkZ</td>\n",
       "      <td>-13.081196</td>\n",
       "      <td>-11.506057</td>\n",
       "      <td>4.999415</td>\n",
       "      <td>137.945408</td>\n",
       "    </tr>\n",
       "    <tr>\n",
       "      <th>4</th>\n",
       "      <td>AHL4O</td>\n",
       "      <td>12.702195</td>\n",
       "      <td>-8.147433</td>\n",
       "      <td>5.004363</td>\n",
       "      <td>134.766305</td>\n",
       "    </tr>\n",
       "  </tbody>\n",
       "</table>\n",
       "</div>"
      ],
      "text/plain": [
       "      id         f0         f1        f2     product\n",
       "0  kBEdx -15.001348  -8.276000 -0.005876    3.179103\n",
       "1  62mP7  14.272088  -3.475083  0.999183   26.953261\n",
       "2  vyE1P   6.263187  -5.948386  5.001160  134.766305\n",
       "3  KcrkZ -13.081196 -11.506057  4.999415  137.945408\n",
       "4  AHL4O  12.702195  -8.147433  5.004363  134.766305"
      ]
     },
     "metadata": {},
     "output_type": "display_data"
    },
    {
     "name": "stdout",
     "output_type": "stream",
     "text": [
      "Третий набор данных:\n"
     ]
    },
    {
     "data": {
      "text/html": [
       "<div>\n",
       "<style scoped>\n",
       "    .dataframe tbody tr th:only-of-type {\n",
       "        vertical-align: middle;\n",
       "    }\n",
       "\n",
       "    .dataframe tbody tr th {\n",
       "        vertical-align: top;\n",
       "    }\n",
       "\n",
       "    .dataframe thead th {\n",
       "        text-align: right;\n",
       "    }\n",
       "</style>\n",
       "<table border=\"1\" class=\"dataframe\">\n",
       "  <thead>\n",
       "    <tr style=\"text-align: right;\">\n",
       "      <th></th>\n",
       "      <th>id</th>\n",
       "      <th>f0</th>\n",
       "      <th>f1</th>\n",
       "      <th>f2</th>\n",
       "      <th>product</th>\n",
       "    </tr>\n",
       "  </thead>\n",
       "  <tbody>\n",
       "    <tr>\n",
       "      <th>0</th>\n",
       "      <td>fwXo0</td>\n",
       "      <td>-1.146987</td>\n",
       "      <td>0.963328</td>\n",
       "      <td>-0.828965</td>\n",
       "      <td>27.758673</td>\n",
       "    </tr>\n",
       "    <tr>\n",
       "      <th>1</th>\n",
       "      <td>WJtFt</td>\n",
       "      <td>0.262778</td>\n",
       "      <td>0.269839</td>\n",
       "      <td>-2.530187</td>\n",
       "      <td>56.069697</td>\n",
       "    </tr>\n",
       "    <tr>\n",
       "      <th>2</th>\n",
       "      <td>ovLUW</td>\n",
       "      <td>0.194587</td>\n",
       "      <td>0.289035</td>\n",
       "      <td>-5.586433</td>\n",
       "      <td>62.871910</td>\n",
       "    </tr>\n",
       "    <tr>\n",
       "      <th>3</th>\n",
       "      <td>q6cA6</td>\n",
       "      <td>2.236060</td>\n",
       "      <td>-0.553760</td>\n",
       "      <td>0.930038</td>\n",
       "      <td>114.572842</td>\n",
       "    </tr>\n",
       "    <tr>\n",
       "      <th>4</th>\n",
       "      <td>WPMUX</td>\n",
       "      <td>-0.515993</td>\n",
       "      <td>1.716266</td>\n",
       "      <td>5.899011</td>\n",
       "      <td>149.600746</td>\n",
       "    </tr>\n",
       "  </tbody>\n",
       "</table>\n",
       "</div>"
      ],
      "text/plain": [
       "      id        f0        f1        f2     product\n",
       "0  fwXo0 -1.146987  0.963328 -0.828965   27.758673\n",
       "1  WJtFt  0.262778  0.269839 -2.530187   56.069697\n",
       "2  ovLUW  0.194587  0.289035 -5.586433   62.871910\n",
       "3  q6cA6  2.236060 -0.553760  0.930038  114.572842\n",
       "4  WPMUX -0.515993  1.716266  5.899011  149.600746"
      ]
     },
     "metadata": {},
     "output_type": "display_data"
    }
   ],
   "source": [
    "print('Первый набор данных:')\n",
    "display(df_0.head())\n",
    "print('Второй набор данных:')\n",
    "display(df_1.head())\n",
    "print('Третий набор данных:')\n",
    "display(df_2.head())"
   ]
  },
  {
   "cell_type": "code",
   "execution_count": 4,
   "metadata": {},
   "outputs": [
    {
     "name": "stdout",
     "output_type": "stream",
     "text": [
      "Первый набор данных:\n",
      "<class 'pandas.core.frame.DataFrame'>\n",
      "RangeIndex: 100000 entries, 0 to 99999\n",
      "Data columns (total 5 columns):\n",
      " #   Column   Non-Null Count   Dtype  \n",
      "---  ------   --------------   -----  \n",
      " 0   id       100000 non-null  object \n",
      " 1   f0       100000 non-null  float64\n",
      " 2   f1       100000 non-null  float64\n",
      " 3   f2       100000 non-null  float64\n",
      " 4   product  100000 non-null  float64\n",
      "dtypes: float64(4), object(1)\n",
      "memory usage: 3.8+ MB\n"
     ]
    },
    {
     "data": {
      "text/plain": [
       "None"
      ]
     },
     "metadata": {},
     "output_type": "display_data"
    },
    {
     "name": "stdout",
     "output_type": "stream",
     "text": [
      "Второй набор данных:\n",
      "<class 'pandas.core.frame.DataFrame'>\n",
      "RangeIndex: 100000 entries, 0 to 99999\n",
      "Data columns (total 5 columns):\n",
      " #   Column   Non-Null Count   Dtype  \n",
      "---  ------   --------------   -----  \n",
      " 0   id       100000 non-null  object \n",
      " 1   f0       100000 non-null  float64\n",
      " 2   f1       100000 non-null  float64\n",
      " 3   f2       100000 non-null  float64\n",
      " 4   product  100000 non-null  float64\n",
      "dtypes: float64(4), object(1)\n",
      "memory usage: 3.8+ MB\n"
     ]
    },
    {
     "data": {
      "text/plain": [
       "None"
      ]
     },
     "metadata": {},
     "output_type": "display_data"
    },
    {
     "name": "stdout",
     "output_type": "stream",
     "text": [
      "Третий набор данных:\n",
      "<class 'pandas.core.frame.DataFrame'>\n",
      "RangeIndex: 100000 entries, 0 to 99999\n",
      "Data columns (total 5 columns):\n",
      " #   Column   Non-Null Count   Dtype  \n",
      "---  ------   --------------   -----  \n",
      " 0   id       100000 non-null  object \n",
      " 1   f0       100000 non-null  float64\n",
      " 2   f1       100000 non-null  float64\n",
      " 3   f2       100000 non-null  float64\n",
      " 4   product  100000 non-null  float64\n",
      "dtypes: float64(4), object(1)\n",
      "memory usage: 3.8+ MB\n"
     ]
    },
    {
     "data": {
      "text/plain": [
       "None"
      ]
     },
     "metadata": {},
     "output_type": "display_data"
    }
   ],
   "source": [
    "print('Первый набор данных:')\n",
    "display(df_0.info())\n",
    "print('Второй набор данных:')\n",
    "display(df_1.info())\n",
    "print('Третий набор данных:')\n",
    "display(df_2.info())\n",
    "#Отлично, пропусков в данных нет."
   ]
  },
  {
   "cell_type": "code",
   "execution_count": 5,
   "metadata": {},
   "outputs": [
    {
     "data": {
      "image/png": "[encoded data removed]",
      "text/plain": [
       "<Figure size 1440x1440 with 12 Axes>"
      ]
     },
     "metadata": {
      "needs_background": "light"
     },
     "output_type": "display_data"
    }
   ],
   "source": [
    "#Посмотрим есть ли выбросы в данных:\n",
    "fig, ax = plt.subplots(3, 4, figsize=(20, 20))\n",
    "\n",
    "for i, col in zip(range(0,4), ['f0', 'f1', 'f2', 'product']):\n",
    "        sns.boxplot(data=df_0[col], ax=ax[0, i])\n",
    "        ax[0, i].set_xlabel(col)\n",
    "        ax[0, 0].set_ylabel(\"df_0\")\n",
    "  \n",
    "for i, col in zip(range(0,4), ['f0', 'f1', 'f2', 'product']):\n",
    "        sns.boxplot(data=df_1[col], ax=ax[1, i])\n",
    "        ax[1, i].set_xlabel(col)\n",
    "        ax[1, 0].set_ylabel(\"df_1\")\n",
    "\n",
    "for i, col in zip(range(0,4), ['f0', 'f1', 'f2', 'product']):\n",
    "        sns.boxplot(data=df_2[col], ax=ax[2, i])\n",
    "        ax[2, i].set_xlabel(col)\n",
    "        ax[2, 0].set_ylabel(\"df_2\")\n",
    "\n",
    "#В каждом из наборов данных наблюдаются выбросы. Выбрсы мешают алгоритмама построить правильное решающее правило, поэтому\n",
    "#я считаю что выбросы строит отбросить. Но для этого сначала посмотрим какое количество данных мы теряем"
   ]
  },
  {
   "cell_type": "code",
   "execution_count": 6,
   "metadata": {},
   "outputs": [
    {
     "name": "stdout",
     "output_type": "stream",
     "text": [
      "Отбраcываем 506 строк в df_0 (0.5 % строк)\n",
      "Отбраcываем 636 строк в df_1 (0.6 % строк)\n",
      "Отбраcываем 1997 строк в df_2 (2.0 % строк)\n"
     ]
    }
   ],
   "source": [
    "def get_clean_data(df, col):\n",
    "    q1 = df[col].quantile(0.25)\n",
    "    q3 = df[col].quantile(0.75)\n",
    "    iqr = q3 - q1\n",
    "    return df.loc[(df[col]  < q3 + 1.5*iqr) & (df[col]  > q1 - 1.5*iqr)]\n",
    "\n",
    "zero = len(df_0) - len(get_clean_data(df_0, 'f2'))\n",
    "zero_perc = round((1 - len(get_clean_data(df_0, 'f2'))/len(df_0))*100, 1)\n",
    "\n",
    "one = len(df_1) - len(get_clean_data(df_1, 'f1'))\n",
    "one_perc = round((1 - len(get_clean_data(df_1, 'f1'))/len(df_1))*100, 1)\n",
    "\n",
    "two = len(df_2) - len(get_clean_data(get_clean_data(get_clean_data(df_2, 'f0'), 'f1'), 'f2'))\n",
    "two_perc = round((1 - (len(get_clean_data(get_clean_data(get_clean_data(df_2, 'f0'), 'f1'), 'f2')))/len(df_2))*100, 1)\n",
    "                                                                                       \n",
    "print(f'Отбраcываем {zero} строк в df_0 ({zero_perc} % строк)')\n",
    "print(f'Отбраcываем {one} строк в df_1 ({one_perc} % строк)')\n",
    "print(f'Отбраcываем {two} строк в df_2 ({two_perc} % строк)')\n",
    "\n",
    "#Отлично. Потерю такого количества данных мы не заменим, а модели будет проще искать в данных закономерности."
   ]
  },
  {
   "cell_type": "code",
   "execution_count": 7,
   "metadata": {},
   "outputs": [],
   "source": [
    "df_0 = get_clean_data(df_0, 'f2')\n",
    "df_1 = get_clean_data(df_1, 'f1')\n",
    "df_2 = get_clean_data(get_clean_data(get_clean_data(df_2, 'f0'), 'f1'), 'f2')"
   ]
  },
  {
   "cell_type": "code",
   "execution_count": 8,
   "metadata": {},
   "outputs": [
    {
     "name": "stdout",
     "output_type": "stream",
     "text": [
      "Распределение переменных в df_0\n"
     ]
    },
    {
     "data": {
      "text/html": [
       "<div>\n",
       "<style scoped>\n",
       "    .dataframe tbody tr th:only-of-type {\n",
       "        vertical-align: middle;\n",
       "    }\n",
       "\n",
       "    .dataframe tbody tr th {\n",
       "        vertical-align: top;\n",
       "    }\n",
       "\n",
       "    .dataframe thead th {\n",
       "        text-align: right;\n",
       "    }\n",
       "</style>\n",
       "<table border=\"1\" class=\"dataframe\">\n",
       "  <thead>\n",
       "    <tr style=\"text-align: right;\">\n",
       "      <th></th>\n",
       "      <th>count</th>\n",
       "      <th>unique</th>\n",
       "      <th>top</th>\n",
       "      <th>freq</th>\n",
       "      <th>mean</th>\n",
       "      <th>std</th>\n",
       "      <th>min</th>\n",
       "      <th>25%</th>\n",
       "      <th>50%</th>\n",
       "      <th>75%</th>\n",
       "      <th>max</th>\n",
       "    </tr>\n",
       "  </thead>\n",
       "  <tbody>\n",
       "    <tr>\n",
       "      <th>id</th>\n",
       "      <td>99494</td>\n",
       "      <td>99484</td>\n",
       "      <td>A5aEY</td>\n",
       "      <td>2</td>\n",
       "      <td>NaN</td>\n",
       "      <td>NaN</td>\n",
       "      <td>NaN</td>\n",
       "      <td>NaN</td>\n",
       "      <td>NaN</td>\n",
       "      <td>NaN</td>\n",
       "      <td>NaN</td>\n",
       "    </tr>\n",
       "    <tr>\n",
       "      <th>f0</th>\n",
       "      <td>99494.0</td>\n",
       "      <td>NaN</td>\n",
       "      <td>NaN</td>\n",
       "      <td>NaN</td>\n",
       "      <td>0.50057</td>\n",
       "      <td>0.871838</td>\n",
       "      <td>-1.408605</td>\n",
       "      <td>-0.072378</td>\n",
       "      <td>0.502606</td>\n",
       "      <td>1.073729</td>\n",
       "      <td>2.362331</td>\n",
       "    </tr>\n",
       "    <tr>\n",
       "      <th>f1</th>\n",
       "      <td>99494.0</td>\n",
       "      <td>NaN</td>\n",
       "      <td>NaN</td>\n",
       "      <td>NaN</td>\n",
       "      <td>0.250044</td>\n",
       "      <td>0.504437</td>\n",
       "      <td>-0.848218</td>\n",
       "      <td>-0.201063</td>\n",
       "      <td>0.250032</td>\n",
       "      <td>0.700574</td>\n",
       "      <td>1.343769</td>\n",
       "    </tr>\n",
       "    <tr>\n",
       "      <th>f2</th>\n",
       "      <td>99494.0</td>\n",
       "      <td>NaN</td>\n",
       "      <td>NaN</td>\n",
       "      <td>NaN</td>\n",
       "      <td>2.503399</td>\n",
       "      <td>3.181196</td>\n",
       "      <td>-6.352956</td>\n",
       "      <td>0.301496</td>\n",
       "      <td>2.516336</td>\n",
       "      <td>4.704256</td>\n",
       "      <td>11.353804</td>\n",
       "    </tr>\n",
       "    <tr>\n",
       "      <th>product</th>\n",
       "      <td>99494.0</td>\n",
       "      <td>NaN</td>\n",
       "      <td>NaN</td>\n",
       "      <td>NaN</td>\n",
       "      <td>92.500677</td>\n",
       "      <td>44.22933</td>\n",
       "      <td>0.0</td>\n",
       "      <td>56.567678</td>\n",
       "      <td>91.842533</td>\n",
       "      <td>128.517876</td>\n",
       "      <td>185.364347</td>\n",
       "    </tr>\n",
       "  </tbody>\n",
       "</table>\n",
       "</div>"
      ],
      "text/plain": [
       "           count unique    top freq       mean       std       min        25%  \\\n",
       "id         99494  99484  A5aEY    2        NaN       NaN       NaN        NaN   \n",
       "f0       99494.0    NaN    NaN  NaN    0.50057  0.871838 -1.408605  -0.072378   \n",
       "f1       99494.0    NaN    NaN  NaN   0.250044  0.504437 -0.848218  -0.201063   \n",
       "f2       99494.0    NaN    NaN  NaN   2.503399  3.181196 -6.352956   0.301496   \n",
       "product  99494.0    NaN    NaN  NaN  92.500677  44.22933       0.0  56.567678   \n",
       "\n",
       "               50%         75%         max  \n",
       "id             NaN         NaN         NaN  \n",
       "f0        0.502606    1.073729    2.362331  \n",
       "f1        0.250032    0.700574    1.343769  \n",
       "f2        2.516336    4.704256   11.353804  \n",
       "product  91.842533  128.517876  185.364347  "
      ]
     },
     "metadata": {},
     "output_type": "display_data"
    },
    {
     "name": "stdout",
     "output_type": "stream",
     "text": [
      "Распределение переменных в df_1\n"
     ]
    },
    {
     "data": {
      "text/html": [
       "<div>\n",
       "<style scoped>\n",
       "    .dataframe tbody tr th:only-of-type {\n",
       "        vertical-align: middle;\n",
       "    }\n",
       "\n",
       "    .dataframe tbody tr th {\n",
       "        vertical-align: top;\n",
       "    }\n",
       "\n",
       "    .dataframe thead th {\n",
       "        text-align: right;\n",
       "    }\n",
       "</style>\n",
       "<table border=\"1\" class=\"dataframe\">\n",
       "  <thead>\n",
       "    <tr style=\"text-align: right;\">\n",
       "      <th></th>\n",
       "      <th>count</th>\n",
       "      <th>unique</th>\n",
       "      <th>top</th>\n",
       "      <th>freq</th>\n",
       "      <th>mean</th>\n",
       "      <th>std</th>\n",
       "      <th>min</th>\n",
       "      <th>25%</th>\n",
       "      <th>50%</th>\n",
       "      <th>75%</th>\n",
       "      <th>max</th>\n",
       "    </tr>\n",
       "  </thead>\n",
       "  <tbody>\n",
       "    <tr>\n",
       "      <th>id</th>\n",
       "      <td>99364</td>\n",
       "      <td>99360</td>\n",
       "      <td>bfPNe</td>\n",
       "      <td>2</td>\n",
       "      <td>NaN</td>\n",
       "      <td>NaN</td>\n",
       "      <td>NaN</td>\n",
       "      <td>NaN</td>\n",
       "      <td>NaN</td>\n",
       "      <td>NaN</td>\n",
       "      <td>NaN</td>\n",
       "    </tr>\n",
       "    <tr>\n",
       "      <th>f0</th>\n",
       "      <td>99364.0</td>\n",
       "      <td>NaN</td>\n",
       "      <td>NaN</td>\n",
       "      <td>NaN</td>\n",
       "      <td>1.139661</td>\n",
       "      <td>8.966349</td>\n",
       "      <td>-31.609576</td>\n",
       "      <td>-6.300689</td>\n",
       "      <td>1.150044</td>\n",
       "      <td>8.621015</td>\n",
       "      <td>29.421755</td>\n",
       "    </tr>\n",
       "    <tr>\n",
       "      <th>f1</th>\n",
       "      <td>99364.0</td>\n",
       "      <td>NaN</td>\n",
       "      <td>NaN</td>\n",
       "      <td>NaN</td>\n",
       "      <td>-4.803101</td>\n",
       "      <td>4.984107</td>\n",
       "      <td>-18.667777</td>\n",
       "      <td>-8.249871</td>\n",
       "      <td>-4.816643</td>\n",
       "      <td>-1.363538</td>\n",
       "      <td>9.050688</td>\n",
       "    </tr>\n",
       "    <tr>\n",
       "      <th>f2</th>\n",
       "      <td>99364.0</td>\n",
       "      <td>NaN</td>\n",
       "      <td>NaN</td>\n",
       "      <td>NaN</td>\n",
       "      <td>2.493961</td>\n",
       "      <td>1.703241</td>\n",
       "      <td>-0.018144</td>\n",
       "      <td>1.000016</td>\n",
       "      <td>2.011374</td>\n",
       "      <td>3.999893</td>\n",
       "      <td>5.019721</td>\n",
       "    </tr>\n",
       "    <tr>\n",
       "      <th>product</th>\n",
       "      <td>99364.0</td>\n",
       "      <td>NaN</td>\n",
       "      <td>NaN</td>\n",
       "      <td>NaN</td>\n",
       "      <td>68.809919</td>\n",
       "      <td>45.934941</td>\n",
       "      <td>0.0</td>\n",
       "      <td>26.953261</td>\n",
       "      <td>57.085625</td>\n",
       "      <td>107.813044</td>\n",
       "      <td>137.945408</td>\n",
       "    </tr>\n",
       "  </tbody>\n",
       "</table>\n",
       "</div>"
      ],
      "text/plain": [
       "           count unique    top freq       mean        std        min  \\\n",
       "id         99364  99360  bfPNe    2        NaN        NaN        NaN   \n",
       "f0       99364.0    NaN    NaN  NaN   1.139661   8.966349 -31.609576   \n",
       "f1       99364.0    NaN    NaN  NaN  -4.803101   4.984107 -18.667777   \n",
       "f2       99364.0    NaN    NaN  NaN   2.493961   1.703241  -0.018144   \n",
       "product  99364.0    NaN    NaN  NaN  68.809919  45.934941        0.0   \n",
       "\n",
       "               25%        50%         75%         max  \n",
       "id             NaN        NaN         NaN         NaN  \n",
       "f0       -6.300689   1.150044    8.621015   29.421755  \n",
       "f1       -8.249871  -4.816643   -1.363538    9.050688  \n",
       "f2        1.000016   2.011374    3.999893    5.019721  \n",
       "product  26.953261  57.085625  107.813044  137.945408  "
      ]
     },
     "metadata": {},
     "output_type": "display_data"
    },
    {
     "name": "stdout",
     "output_type": "stream",
     "text": [
      "Распределение переменных в df_2\n"
     ]
    },
    {
     "data": {
      "text/html": [
       "<div>\n",
       "<style scoped>\n",
       "    .dataframe tbody tr th:only-of-type {\n",
       "        vertical-align: middle;\n",
       "    }\n",
       "\n",
       "    .dataframe tbody tr th {\n",
       "        vertical-align: top;\n",
       "    }\n",
       "\n",
       "    .dataframe thead th {\n",
       "        text-align: right;\n",
       "    }\n",
       "</style>\n",
       "<table border=\"1\" class=\"dataframe\">\n",
       "  <thead>\n",
       "    <tr style=\"text-align: right;\">\n",
       "      <th></th>\n",
       "      <th>count</th>\n",
       "      <th>unique</th>\n",
       "      <th>top</th>\n",
       "      <th>freq</th>\n",
       "      <th>mean</th>\n",
       "      <th>std</th>\n",
       "      <th>min</th>\n",
       "      <th>25%</th>\n",
       "      <th>50%</th>\n",
       "      <th>75%</th>\n",
       "      <th>max</th>\n",
       "    </tr>\n",
       "  </thead>\n",
       "  <tbody>\n",
       "    <tr>\n",
       "      <th>id</th>\n",
       "      <td>98003</td>\n",
       "      <td>97999</td>\n",
       "      <td>Vcm5J</td>\n",
       "      <td>2</td>\n",
       "      <td>NaN</td>\n",
       "      <td>NaN</td>\n",
       "      <td>NaN</td>\n",
       "      <td>NaN</td>\n",
       "      <td>NaN</td>\n",
       "      <td>NaN</td>\n",
       "      <td>NaN</td>\n",
       "    </tr>\n",
       "    <tr>\n",
       "      <th>f0</th>\n",
       "      <td>98003.0</td>\n",
       "      <td>NaN</td>\n",
       "      <td>NaN</td>\n",
       "      <td>NaN</td>\n",
       "      <td>0.000788</td>\n",
       "      <td>1.679981</td>\n",
       "      <td>-4.64083</td>\n",
       "      <td>-1.153136</td>\n",
       "      <td>0.008893</td>\n",
       "      <td>1.14822</td>\n",
       "      <td>4.637965</td>\n",
       "    </tr>\n",
       "    <tr>\n",
       "      <th>f1</th>\n",
       "      <td>98003.0</td>\n",
       "      <td>NaN</td>\n",
       "      <td>NaN</td>\n",
       "      <td>NaN</td>\n",
       "      <td>-0.002182</td>\n",
       "      <td>1.681475</td>\n",
       "      <td>-4.676782</td>\n",
       "      <td>-1.164226</td>\n",
       "      <td>-0.009345</td>\n",
       "      <td>1.155001</td>\n",
       "      <td>4.67061</td>\n",
       "    </tr>\n",
       "    <tr>\n",
       "      <th>f2</th>\n",
       "      <td>98003.0</td>\n",
       "      <td>NaN</td>\n",
       "      <td>NaN</td>\n",
       "      <td>NaN</td>\n",
       "      <td>2.494648</td>\n",
       "      <td>3.38978</td>\n",
       "      <td>-6.944602</td>\n",
       "      <td>0.147699</td>\n",
       "      <td>2.482845</td>\n",
       "      <td>4.841025</td>\n",
       "      <td>11.945919</td>\n",
       "    </tr>\n",
       "    <tr>\n",
       "      <th>product</th>\n",
       "      <td>98003.0</td>\n",
       "      <td>NaN</td>\n",
       "      <td>NaN</td>\n",
       "      <td>NaN</td>\n",
       "      <td>94.785072</td>\n",
       "      <td>44.685282</td>\n",
       "      <td>0.0</td>\n",
       "      <td>59.330119</td>\n",
       "      <td>94.696578</td>\n",
       "      <td>130.319425</td>\n",
       "      <td>190.029838</td>\n",
       "    </tr>\n",
       "  </tbody>\n",
       "</table>\n",
       "</div>"
      ],
      "text/plain": [
       "           count unique    top freq       mean        std       min  \\\n",
       "id         98003  97999  Vcm5J    2        NaN        NaN       NaN   \n",
       "f0       98003.0    NaN    NaN  NaN   0.000788   1.679981  -4.64083   \n",
       "f1       98003.0    NaN    NaN  NaN  -0.002182   1.681475 -4.676782   \n",
       "f2       98003.0    NaN    NaN  NaN   2.494648    3.38978 -6.944602   \n",
       "product  98003.0    NaN    NaN  NaN  94.785072  44.685282       0.0   \n",
       "\n",
       "               25%        50%         75%         max  \n",
       "id             NaN        NaN         NaN         NaN  \n",
       "f0       -1.153136   0.008893     1.14822    4.637965  \n",
       "f1       -1.164226  -0.009345    1.155001     4.67061  \n",
       "f2        0.147699   2.482845    4.841025   11.945919  \n",
       "product  59.330119  94.696578  130.319425  190.029838  "
      ]
     },
     "metadata": {},
     "output_type": "display_data"
    }
   ],
   "source": [
    "print('Распределение переменных в df_0')\n",
    "display(df_0.describe(include='all').transpose())\n",
    "print('Распределение переменных в df_1')\n",
    "display(df_1.describe(include='all').transpose())\n",
    "print('Распределение переменных в df_2')\n",
    "display(df_2.describe(include='all').transpose())\n",
    "\n",
    "#При обучении модели признаки нужно будет масштабировать из-за большого разброса"
   ]
  },
  {
   "cell_type": "code",
   "execution_count": 9,
   "metadata": {},
   "outputs": [
    {
     "name": "stdout",
     "output_type": "stream",
     "text": [
      "Количество дубликатов в df_0: 0\n",
      "Количество дубликатов в df_1: 0\n",
      "Количество дубликатов в df_2: 0\n"
     ]
    }
   ],
   "source": [
    "#Проверим данные на наличие дубликатов\n",
    "print(f'Количество дубликатов в df_0: {df_0.duplicated().sum()}')\n",
    "print(f'Количество дубликатов в df_1: {df_1.duplicated().sum()}')\n",
    "print(f'Количество дубликатов в df_2: {df_2.duplicated().sum()}')\n",
    "#Дубликатов тоже нет, отлично"
   ]
  },
  {
   "cell_type": "code",
   "execution_count": 10,
   "metadata": {},
   "outputs": [
    {
     "data": {
      "text/plain": [
       "Text(0.5, 1.0, 'df_2')"
      ]
     },
     "execution_count": 10,
     "metadata": {},
     "output_type": "execute_result"
    },
    {
     "data": {
      "image/png": "[encoded data removed]",
      "text/plain": [
       "<Figure size 1440x360 with 6 Axes>"
      ]
     },
     "metadata": {
      "needs_background": "light"
     },
     "output_type": "display_data"
    }
   ],
   "source": [
    "#Проверим как сильно данные кореллируют между собой\n",
    "fig, ax = plt.subplots(1, 3, figsize=(20, 5))\n",
    "\n",
    "sns.heatmap(df_0.corr(), cmap=\"Blues\", ax=ax[0], annot=True)\n",
    "ax[0].set_title(\"df_0\")\n",
    "sns.heatmap(df_1.corr(), cmap=\"Blues\", ax=ax[1], annot=True)\n",
    "ax[1].set_title(\"df_1\")\n",
    "sns.heatmap(df_2.corr(), cmap=\"Blues\", ax=ax[2], annot=True)\n",
    "ax[2].set_title(\"df_2\")\n",
    "\n"
   ]
  },
  {
   "cell_type": "markdown",
   "metadata": {},
   "source": [
    "### Выводы по подготовке данных\n",
    "\n",
    "Пропусков и дубликатов в данных не обнаружено, это радует. Во всех наборах данных в признаках наблюдаются выбросы. Т.к. их доля не высока - отбросим их. \n",
    "\n",
    "в df_2 признак f2 и целевая переменная очень сильно коррелируют друг с другом. Для того, чтобы не портить прогноз - решено отбросить эту переменную. \n",
    "\n",
    "В df_0 у признаков f0 и f1 сильная отрицательная корреляция"
   ]
  },
  {
   "cell_type": "markdown",
   "metadata": {},
   "source": [
    "## Обучение и проверка модели"
   ]
  },
  {
   "cell_type": "code",
   "execution_count": 11,
   "metadata": {
    "scrolled": false
   },
   "outputs": [
    {
     "name": "stdout",
     "output_type": "stream",
     "text": [
      "Регион df_0:\n",
      "RMSE: 37.815104778634264\n",
      "Средний предсказанный объём запасов в скважине 92.35054696467056\n",
      "-------------------\n",
      "Регион df_1:\n",
      "RMSE: 0.8911478860562432\n",
      "Средний предсказанный объём запасов в скважине 68.54948307873201\n",
      "-------------------\n",
      "Регион df_2:\n",
      "RMSE: 40.12959008344122\n",
      "Средний предсказанный объём запасов в скважине 94.95178110761863\n",
      "-------------------\n"
     ]
    }
   ],
   "source": [
    "def split_train_predict(data):\n",
    "    features = data.drop(['id', 'product'], axis = 1)\n",
    "    target = data['product']\n",
    "    \n",
    "    features_train, features_valid, target_train, target_valid = train_test_split(features, \n",
    "                                                                                  target, \n",
    "                                                                                  test_size=0.25, \n",
    "                                                                                  random_state=RANDOM)\n",
    "    scaler = MinMaxScaler()\n",
    "    numeric = ['f0', 'f1', 'f2']\n",
    "    scaler.fit(features_train[numeric]) \n",
    "    features_train[numeric] = scaler.transform(features_train[numeric])\n",
    "    features_valid[numeric] = scaler.transform(features_valid[numeric])\n",
    "   \n",
    "    \n",
    "    lr = LinearRegression()\n",
    "    lr.fit(features_train, target_train)\n",
    "    pred = lr.predict(features_valid)\n",
    "    pred = pd.Series(pred)\n",
    "    rmse = (mean_squared_error(pred, target_valid))**(0.5)\n",
    "    average_product_pred = sum(pred) / len(pred)\n",
    "    \n",
    "    print(f'RMSE: {rmse}')\n",
    "    print(f'Средний предсказанный объём запасов в скважине {average_product_pred}')\n",
    "    \n",
    "    return pred, target_valid.reset_index(drop = True) # Почему-то в taeget_valid индексы странным образом перемешаны. \n",
    "                                                       # Уже долго сижу с задачей и уже не очень соображаю почему\n",
    "\n",
    "\n",
    "print('Регион df_0:')\n",
    "split_train_predict(df_0)\n",
    "print('-------------------')\n",
    "print('Регион df_1:')\n",
    "split_train_predict(df_1)\n",
    "print('-------------------')    \n",
    "print('Регион df_2:')\n",
    "split_train_predict(df_2)\n",
    "print('-------------------')\n",
    "    "
   ]
  },
  {
   "cell_type": "code",
   "execution_count": 12,
   "metadata": {},
   "outputs": [
    {
     "name": "stdout",
     "output_type": "stream",
     "text": [
      "RMSE: 37.815104778634264\n",
      "Средний предсказанный объём запасов в скважине 92.35054696467056\n",
      "RMSE: 0.8911478860562432\n",
      "Средний предсказанный объём запасов в скважине 68.54948307873201\n",
      "RMSE: 40.12959008344122\n",
      "Средний предсказанный объём запасов в скважине 94.95178110761863\n"
     ]
    }
   ],
   "source": [
    "#Сохраним необходимую информацию в отдельные переменные\n",
    "pred_0, target_0 = split_train_predict(df_0)\n",
    "pred_1, target_1 = split_train_predict(df_1)\n",
    "pred_2, target_2 = split_train_predict(df_2)"
   ]
  },
  {
   "cell_type": "markdown",
   "metadata": {},
   "source": [
    "### Выводы по обучению и проверке моделей\n",
    "\n",
    "* Минимальня среднеквадратическая ошибка в регионах df_1 и df_2.\n",
    "* Самый большой средний предсказанный объем запалов в скважине в регионе df_0, но по нему самая большая среднеквадратическая ошибка при предсказании.\n",
    "* Запас нефти в df_1 и df_2 значительно меньше, чем в df_0, но точность предсказаний там на несколько порядков превышает точность в df_0."
   ]
  },
  {
   "cell_type": "markdown",
   "metadata": {},
   "source": [
    "## Подготовка к расчёту прибыли"
   ]
  },
  {
   "cell_type": "code",
   "execution_count": 13,
   "metadata": {},
   "outputs": [],
   "source": [
    "budget = 10**10\n",
    "profit_p_bar = 450\n",
    "points_to_develop = 200\n",
    "break_even = round(budget/(profit_p_bar*1000))\n",
    "break_even_average = round(budget/(profit_p_bar*1000)) / points_to_develop"
   ]
  },
  {
   "cell_type": "code",
   "execution_count": 14,
   "metadata": {},
   "outputs": [
    {
     "name": "stdout",
     "output_type": "stream",
     "text": [
      "Для безубыточной разработки необходимо 22222 баррелей\n",
      "Необходимый средний объем запасов сырья в скважине для безубыточной разработки - 111.11\n"
     ]
    }
   ],
   "source": [
    "#Определим количество баррелей, необходимых для безубыточной разработки новой скважины\n",
    "print(f'Для безубыточной разработки необходимо {break_even} баррелей')\n",
    "print(f'Необходимый средний объем запасов сырья в скважине для безубыточной разработки - {break_even_average}')"
   ]
  },
  {
   "cell_type": "code",
   "execution_count": 15,
   "metadata": {},
   "outputs": [
    {
     "name": "stdout",
     "output_type": "stream",
     "text": [
      "Распределение объема сырья по региону df_0\n"
     ]
    },
    {
     "data": {
      "text/plain": [
       "count    99494.000000\n",
       "mean        92.500677\n",
       "std         44.229330\n",
       "min          0.000000\n",
       "25%         56.567678\n",
       "50%         91.842533\n",
       "75%        128.517876\n",
       "max        185.364347\n",
       "Name: product, dtype: float64"
      ]
     },
     "metadata": {},
     "output_type": "display_data"
    },
    {
     "name": "stdout",
     "output_type": "stream",
     "text": [
      "Распределение объема сырья по региону df_1\n"
     ]
    },
    {
     "data": {
      "text/plain": [
       "count    99364.000000\n",
       "mean        68.809919\n",
       "std         45.934941\n",
       "min          0.000000\n",
       "25%         26.953261\n",
       "50%         57.085625\n",
       "75%        107.813044\n",
       "max        137.945408\n",
       "Name: product, dtype: float64"
      ]
     },
     "metadata": {},
     "output_type": "display_data"
    },
    {
     "name": "stdout",
     "output_type": "stream",
     "text": [
      "Распределение объема сырья по региону df_2\n"
     ]
    },
    {
     "data": {
      "text/plain": [
       "count    98003.000000\n",
       "mean        94.785072\n",
       "std         44.685282\n",
       "min          0.000000\n",
       "25%         59.330119\n",
       "50%         94.696578\n",
       "75%        130.319425\n",
       "max        190.029838\n",
       "Name: product, dtype: float64"
      ]
     },
     "metadata": {},
     "output_type": "display_data"
    }
   ],
   "source": [
    "print('Распределение объема сырья по региону df_0')\n",
    "display(df_0['product'].describe())\n",
    "print('Распределение объема сырья по региону df_1')\n",
    "display(df_1['product'].describe())\n",
    "print('Распределение объема сырья по региону df_2')\n",
    "display(df_2['product'].describe())\n"
   ]
  },
  {
   "cell_type": "code",
   "execution_count": 16,
   "metadata": {},
   "outputs": [
    {
     "data": {
      "text/plain": [
       "'Доля месторождений, в регионе df_0, удовлетворяющих минимальному среднему объему сырья для безубыточного производства - 36%'"
      ]
     },
     "metadata": {},
     "output_type": "display_data"
    },
    {
     "data": {
      "text/plain": [
       "'Доля месторождений, в регионе df_1, удовлетворяющих минимальному среднему объему сырья для безубыточного производства - 16%'"
      ]
     },
     "metadata": {},
     "output_type": "display_data"
    },
    {
     "data": {
      "text/plain": [
       "'Доля месторождений, в регионе df_2, удовлетворяющих минимальному среднему объему сырья для безубыточного производства - 37%'"
      ]
     },
     "metadata": {},
     "output_type": "display_data"
    }
   ],
   "source": [
    "#Посмотрим какая доля месторождений в каждом регионе удослетворяют минимальному объему безубыточной разработки месторождения\n",
    "def how_much_points(data, region_name):\n",
    "    for i in np.arange(0.0, 1.0, 0.01):\n",
    "        if data['product'].quantile(i) < break_even_average:\n",
    "            continue\n",
    "        else:\n",
    "            text = f'Доля месторождений, в регионе {region_name}, удовлетворяющих минимальному среднему объему сырья для безубыточного производства - {round((1 - i)*100)}%'\n",
    "            return text\n",
    "        \n",
    "display(how_much_points(df_0, 'df_0'))\n",
    "display(how_much_points(df_1, 'df_1'))\n",
    "display(how_much_points(df_2, 'df_2'))"
   ]
  },
  {
   "cell_type": "code",
   "execution_count": 17,
   "metadata": {},
   "outputs": [],
   "source": [
    "#Функция расчета прибыли\n",
    "def get_profit(predicted, target):\n",
    "    best_points_predicted = predicted.sort_values(ascending = False).iloc[:200]\n",
    "    best_points_true = target[best_points_predicted.index]\n",
    "    profit = best_points_true.sum() * profit_p_bar * 1000 - budget\n",
    "    return profit"
   ]
  },
  {
   "cell_type": "code",
   "execution_count": 18,
   "metadata": {},
   "outputs": [
    {
     "data": {
      "text/plain": [
       "'Прибыль с региона df_0 - 3252359903.112892'"
      ]
     },
     "metadata": {},
     "output_type": "display_data"
    },
    {
     "data": {
      "text/plain": [
       "'Прибыль с региона df_1 - 2415086696.681513'"
      ]
     },
     "metadata": {},
     "output_type": "display_data"
    },
    {
     "data": {
      "text/plain": [
       "'Прибыль с региона df_2 - 2385314465.926655'"
      ]
     },
     "metadata": {},
     "output_type": "display_data"
    }
   ],
   "source": [
    "display(f'Прибыль с региона df_0 - {get_profit(pred_0, target_0)}')\n",
    "display(f'Прибыль с региона df_1 - {get_profit(pred_1, target_1)}')\n",
    "display(f'Прибыль с региона df_2 - {get_profit(pred_2, target_2)}')"
   ]
  },
  {
   "cell_type": "markdown",
   "metadata": {},
   "source": [
    "### Выводы по подготовке к расчету прибыли\n",
    "Средний запас сырья, необходимый для безубыточно разработки месторождения выше, чем средний объем запасов в скажинах по каждому из регионов.\n",
    "\n",
    "* Доля месторождений, в регионе **df_0**, удовлетворяющих минимальному среднему объему сырья для безубыточного производства - **36%**.\n",
    "* Доля месторождений, в регионе **df_1**, удовлетворяющих минимальному среднему объему сырья для безубыточного производства - **16%**.\n",
    "* Доля месторождений, в регионе **df_2**, удовлетворяющих минимальному среднему объему сырья для безубыточного производства - **16%**.\n",
    "\n"
   ]
  },
  {
   "cell_type": "markdown",
   "metadata": {},
   "source": [
    "## Расчёт прибыли и рисков "
   ]
  },
  {
   "cell_type": "code",
   "execution_count": 19,
   "metadata": {},
   "outputs": [],
   "source": [
    "state = np.random.RandomState(RANDOM)\n",
    "\n",
    "def get_risk_and_confidence_interval(target, predicted):\n",
    "    profit_bootstraped = []\n",
    "    for i in range(1000):\n",
    "        target_sample = target.sample(500, replace=True, random_state=state)\n",
    "        predicted_sample = predicted[target_sample.index]\n",
    "        profit_bootstraped.append(get_profit(predicted_sample, target_sample))\n",
    "        \n",
    "        lower = pd.Series(profit_bootstraped).quantile(0.025)\n",
    "        upper = pd.Series(profit_bootstraped).quantile(0.975)\n",
    "        mean_profit = int(sum(profit_bootstraped) / len(profit_bootstraped))\n",
    "        risk = (pd.Series(profit_bootstraped) < 0).mean()\n",
    "\n",
    "    return lower, upper, mean_profit, risk\n"
   ]
  },
  {
   "cell_type": "code",
   "execution_count": 21,
   "metadata": {},
   "outputs": [
    {
     "name": "stdout",
     "output_type": "stream",
     "text": [
      "Данные по региону df_0:\n",
      "Доверительный интервал: (29385299.49612489 ; 1230136774.839308)\n",
      "Средняя ожидаемая прибыль: 587320944 руб.\n",
      "Риск убытков: 2.1%\n",
      "-----------------\n",
      "Данные по региону df_1:\n",
      "Доверительный интервал: (168728837.50904122 ; 1156634792.46338)\n",
      "Средняя ожидаемая прибыль: 643852712 руб.\n",
      "Риск убытков: 0.4%\n",
      "-----------------\n",
      "Данные по региону df_2:\n",
      "Доверительный интервал: (-15363043.175278893 ; 1221205727.4768589)\n",
      "Средняя ожидаемая прибыль: 586819021 руб.\n",
      "Риск убытков: 3.0%\n",
      "-----------------\n"
     ]
    }
   ],
   "source": [
    "i = 0\n",
    "for pred, target in zip([pred_0, pred_1, pred_2], [target_0, target_1, target_2]):\n",
    "    if i == 0:\n",
    "        reg = 'df_0'\n",
    "    elif i == 1:\n",
    "        reg = 'df_1'\n",
    "    else:\n",
    "        reg = 'df_2'\n",
    "    lower, upper, mean_profit, risk = get_risk_and_confidence_interval(target, pred)\n",
    "    print(f'Данные по региону {reg}:')\n",
    "    print(f'Доверительный интервал: ({lower} ; {upper})')\n",
    "    print(f'Средняя ожидаемая прибыль: {mean_profit} руб.')\n",
    "    print(f'Риск убытков: {risk* 100}%')\n",
    "    print('-----------------')\n",
    "    i = i+1"
   ]
  },
  {
   "cell_type": "markdown",
   "metadata": {},
   "source": [
    "## Выводы\n",
    "\n",
    "Проанализированы данные по разработке месторождений в трех регионах. Учтены выбросы, корреляция целевой переменной и признаков, проверено наличие дубликатов и пропущенных значений.\n",
    "\n",
    "Обучена модель для предсказания объема сырья в скважине. Сделаны предсказания для скважин в каждом из регионов. RMSE модели по региону df_0 - 38, по df_1 и df_2 - 0,89. В fd_0 ошибка достаточно больша, учитывая, что максимальный объем сырья в скважине в районе 190 тыс.баррелей. В остальных регионах ошибка допустимая.\n",
    "\n",
    "На основании исходных данных определен минимальный средний объем сырья к скважине для безубыточной разработке - 111 тыс. баррелей. В регионе df_0 под это условие подходит 36% скважин, в регионе df_1 - 16%, в df_2 - 16%.\n",
    "\n",
    "Определена вохможная прибыль в каждом из регионов. Так же, с помощю процедуры bootstrap определен доверительный интвервал и средняя ожидаемая прибыль. \n",
    "\n",
    "* **df_0:**\n",
    "** Данные по региону df_0:\n",
    "** Доверительный интервал: (-6625783.722417579 ; 1252787387.06034)\n",
    "** Средняя ожидаемая прибыль: 601831624 руб.\n",
    "** Риск убытков: 2.7%\n",
    "\n",
    "* **df_1:**\n",
    "** Доверительный интервал: (147733283.8293596 ; 1205478766.4400141)\n",
    "** Средняя ожидаемая прибыль: 643767996 руб.\n",
    "** Риск убытков: 0.5%\n",
    "\n",
    "\n",
    "* **df_2:**\n",
    "** Доверительный интервал: (185090503.61907253 ; 1257487156.9281445)\n",
    "** Средняя ожидаемая прибыль: 676695033 руб.\n",
    "** Риск убытков: 0.4%\n",
    "\n",
    "Учитывая результаты расчетов, для безубыточной разработки лучше всего подходят регионы df_1 и df_2, тк в них самая высокая ожидаемая прибыль и самый низкий риск убытков (df_2 подзодит даже лучше).\n"
   ]
  }
 ],
 "metadata": {
  "ExecuteTimeLog": [
   {
    "duration": 56,
    "start_time": "2023-02-19T05:28:21.775Z"
   },
   {
    "duration": 2589,
    "start_time": "2023-02-19T05:29:14.279Z"
   },
   {
    "duration": 574,
    "start_time": "2023-02-19T05:29:16.870Z"
   },
   {
    "duration": 37,
    "start_time": "2023-02-19T05:29:17.446Z"
   },
   {
    "duration": 48,
    "start_time": "2023-02-19T05:29:17.485Z"
   },
   {
    "duration": 1365,
    "start_time": "2023-02-19T05:29:17.535Z"
   },
   {
    "duration": 118,
    "start_time": "2023-02-19T05:29:18.902Z"
   },
   {
    "duration": 63,
    "start_time": "2023-02-19T05:29:19.022Z"
   },
   {
    "duration": 461,
    "start_time": "2023-02-19T05:29:19.088Z"
   },
   {
    "duration": 146,
    "start_time": "2023-02-19T05:29:19.556Z"
   },
   {
    "duration": 968,
    "start_time": "2023-02-19T05:29:19.707Z"
   },
   {
    "duration": 7,
    "start_time": "2023-02-19T05:29:20.677Z"
   },
   {
    "duration": 482,
    "start_time": "2023-02-19T05:29:20.685Z"
   },
   {
    "duration": 574,
    "start_time": "2023-02-19T05:29:21.169Z"
   },
   {
    "duration": 60,
    "start_time": "2023-02-19T05:29:21.751Z"
   },
   {
    "duration": 54,
    "start_time": "2023-02-19T05:29:21.813Z"
   },
   {
    "duration": 30,
    "start_time": "2023-02-19T05:29:21.868Z"
   },
   {
    "duration": 584,
    "start_time": "2023-02-19T05:29:21.900Z"
   },
   {
    "duration": 3,
    "start_time": "2023-02-19T05:29:22.510Z"
   },
   {
    "duration": 27,
    "start_time": "2023-02-19T05:29:22.515Z"
   },
   {
    "duration": 33,
    "start_time": "2023-02-19T05:29:22.544Z"
   },
   {
    "duration": 15,
    "start_time": "2023-02-19T05:29:22.579Z"
   },
   {
    "duration": 8342,
    "start_time": "2023-02-19T05:29:22.596Z"
   },
   {
    "duration": 1692,
    "start_time": "2023-02-19T13:16:49.371Z"
   },
   {
    "duration": 910,
    "start_time": "2023-02-19T13:16:52.882Z"
   },
   {
    "duration": 1242,
    "start_time": "2023-02-19T13:16:58.648Z"
   },
   {
    "duration": 204,
    "start_time": "2023-02-19T13:17:03.538Z"
   },
   {
    "duration": 62,
    "start_time": "2023-02-19T13:17:08.870Z"
   },
   {
    "duration": 320,
    "start_time": "2023-02-19T13:17:11.503Z"
   },
   {
    "duration": 119,
    "start_time": "2023-02-19T13:17:14.953Z"
   },
   {
    "duration": 935,
    "start_time": "2023-02-19T13:17:16.929Z"
   },
   {
    "duration": 874,
    "start_time": "2023-02-19T13:19:43.439Z"
   },
   {
    "duration": 473,
    "start_time": "2023-02-19T13:20:29.575Z"
   },
   {
    "duration": 4,
    "start_time": "2023-02-19T13:20:52.828Z"
   },
   {
    "duration": 407,
    "start_time": "2023-02-19T13:20:59.052Z"
   },
   {
    "duration": 128,
    "start_time": "2023-02-19T13:21:46.493Z"
   },
   {
    "duration": 3,
    "start_time": "2023-02-19T13:22:25.723Z"
   },
   {
    "duration": 31,
    "start_time": "2023-02-19T13:22:31.922Z"
   },
   {
    "duration": 463,
    "start_time": "2023-02-19T13:23:00.593Z"
   },
   {
    "duration": 415,
    "start_time": "2023-02-19T13:23:57.449Z"
   },
   {
    "duration": 522,
    "start_time": "2023-02-19T13:24:04.323Z"
   },
   {
    "duration": 508,
    "start_time": "2023-02-19T13:24:10.234Z"
   },
   {
    "duration": 458,
    "start_time": "2023-02-19T13:24:13.403Z"
   },
   {
    "duration": 3,
    "start_time": "2023-02-19T15:06:33.111Z"
   },
   {
    "duration": 3,
    "start_time": "2023-02-19T15:06:41.013Z"
   },
   {
    "duration": 513,
    "start_time": "2023-02-19T15:06:52.900Z"
   },
   {
    "duration": 4,
    "start_time": "2023-02-19T15:07:39.704Z"
   },
   {
    "duration": 17,
    "start_time": "2023-02-19T15:07:42.097Z"
   },
   {
    "duration": 512,
    "start_time": "2023-02-19T15:08:31.431Z"
   },
   {
    "duration": 18,
    "start_time": "2023-02-19T15:08:45.684Z"
   },
   {
    "duration": 6,
    "start_time": "2023-02-19T15:09:13.478Z"
   },
   {
    "duration": 8,
    "start_time": "2023-02-19T15:10:12.679Z"
   },
   {
    "duration": 76,
    "start_time": "2023-02-19T15:10:38.827Z"
   },
   {
    "duration": 8301,
    "start_time": "2023-02-19T15:10:42.230Z"
   },
   {
    "duration": 6,
    "start_time": "2023-02-19T15:11:37.205Z"
   },
   {
    "duration": 19,
    "start_time": "2023-02-19T15:11:44.786Z"
   },
   {
    "duration": 5,
    "start_time": "2023-02-19T15:12:46.054Z"
   },
   {
    "duration": 8923,
    "start_time": "2023-02-19T15:12:49.654Z"
   },
   {
    "duration": 8779,
    "start_time": "2023-02-19T15:13:04.350Z"
   },
   {
    "duration": 2167,
    "start_time": "2023-02-19T16:31:33.157Z"
   },
   {
    "duration": 846,
    "start_time": "2023-02-19T16:31:35.327Z"
   },
   {
    "duration": 35,
    "start_time": "2023-02-19T16:31:36.175Z"
   },
   {
    "duration": 37,
    "start_time": "2023-02-19T16:31:36.212Z"
   },
   {
    "duration": 1213,
    "start_time": "2023-02-19T16:31:36.251Z"
   },
   {
    "duration": 104,
    "start_time": "2023-02-19T16:31:37.466Z"
   },
   {
    "duration": 56,
    "start_time": "2023-02-19T16:31:37.572Z"
   },
   {
    "duration": 255,
    "start_time": "2023-02-19T16:31:37.631Z"
   },
   {
    "duration": 124,
    "start_time": "2023-02-19T16:31:37.888Z"
   },
   {
    "duration": 857,
    "start_time": "2023-02-19T16:31:38.016Z"
   },
   {
    "duration": 442,
    "start_time": "2023-02-19T16:31:38.876Z"
   },
   {
    "duration": 595,
    "start_time": "2023-02-19T16:31:39.320Z"
   },
   {
    "duration": 4,
    "start_time": "2023-02-19T16:31:39.917Z"
   },
   {
    "duration": 6,
    "start_time": "2023-02-19T16:31:40.015Z"
   },
   {
    "duration": 31,
    "start_time": "2023-02-19T16:31:40.110Z"
   },
   {
    "duration": 502,
    "start_time": "2023-02-19T16:31:40.143Z"
   },
   {
    "duration": 3,
    "start_time": "2023-02-19T16:31:40.647Z"
   },
   {
    "duration": 21,
    "start_time": "2023-02-19T16:31:40.651Z"
   },
   {
    "duration": 4,
    "start_time": "2023-02-19T16:31:40.674Z"
   },
   {
    "duration": 11,
    "start_time": "2023-02-19T16:31:40.680Z"
   },
   {
    "duration": 7319,
    "start_time": "2023-02-19T16:31:40.692Z"
   },
   {
    "duration": 7304,
    "start_time": "2023-02-19T16:31:48.012Z"
   },
   {
    "duration": 7,
    "start_time": "2023-02-19T16:34:22.393Z"
   },
   {
    "duration": 1889,
    "start_time": "2023-02-19T16:36:12.427Z"
   },
   {
    "duration": 446,
    "start_time": "2023-02-19T16:36:14.318Z"
   },
   {
    "duration": 27,
    "start_time": "2023-02-19T16:36:14.766Z"
   },
   {
    "duration": 46,
    "start_time": "2023-02-19T16:36:14.794Z"
   },
   {
    "duration": 1131,
    "start_time": "2023-02-19T16:36:14.841Z"
   },
   {
    "duration": 99,
    "start_time": "2023-02-19T16:36:15.974Z"
   },
   {
    "duration": 52,
    "start_time": "2023-02-19T16:36:16.074Z"
   },
   {
    "duration": 248,
    "start_time": "2023-02-19T16:36:16.128Z"
   },
   {
    "duration": 132,
    "start_time": "2023-02-19T16:36:16.377Z"
   },
   {
    "duration": 962,
    "start_time": "2023-02-19T16:36:16.512Z"
   },
   {
    "duration": 445,
    "start_time": "2023-02-19T16:36:17.475Z"
   },
   {
    "duration": 601,
    "start_time": "2023-02-19T16:36:17.922Z"
   },
   {
    "duration": 85,
    "start_time": "2023-02-19T16:36:18.525Z"
   },
   {
    "duration": 95,
    "start_time": "2023-02-19T16:36:18.617Z"
   },
   {
    "duration": 31,
    "start_time": "2023-02-19T16:36:18.714Z"
   },
   {
    "duration": 455,
    "start_time": "2023-02-19T16:36:18.747Z"
   },
   {
    "duration": 3,
    "start_time": "2023-02-19T16:36:19.210Z"
   },
   {
    "duration": 19,
    "start_time": "2023-02-19T16:36:19.215Z"
   },
   {
    "duration": 5,
    "start_time": "2023-02-19T16:36:19.236Z"
   },
   {
    "duration": 8,
    "start_time": "2023-02-19T16:36:19.243Z"
   },
   {
    "duration": 7160,
    "start_time": "2023-02-19T16:36:19.253Z"
   }
  ],
  "kernelspec": {
   "display_name": "Python 3 (ipykernel)",
   "language": "python",
   "name": "python3"
  },
  "language_info": {
   "codemirror_mode": {
    "name": "ipython",
    "version": 3
   },
   "file_extension": ".py",
   "mimetype": "text/x-python",
   "name": "python",
   "nbconvert_exporter": "python",
   "pygments_lexer": "ipython3",
   "version": "3.9.12"
  },
  "toc": {
   "base_numbering": 1,
   "nav_menu": {},
   "number_sections": true,
   "sideBar": true,
   "skip_h1_title": true,
   "title_cell": "Table of Contents",
   "title_sidebar": "Contents",
   "toc_cell": false,
   "toc_position": {
    "height": "calc(100% - 180px)",
    "left": "10px",
    "top": "150px",
    "width": "165px"
   },
   "toc_section_display": true,
   "toc_window_display": true
  }
 },
 "nbformat": 4,
 "nbformat_minor": 2
}
